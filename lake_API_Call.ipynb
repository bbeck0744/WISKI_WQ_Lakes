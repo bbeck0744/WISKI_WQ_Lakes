{
 "cells": [
  {
   "cell_type": "code",
   "execution_count": 11,
   "metadata": {},
   "outputs": [],
   "source": [
    "import requests\n",
    "import pandas as pd\n",
    "from datetime import datetime\n",
    "import json\n",
    "import geopandas\n",
    "from shapely.geometry import Point"
   ]
  },
  {
   "cell_type": "code",
   "execution_count": 2,
   "metadata": {},
   "outputs": [],
   "source": [
    "#selects previous year to calculate annual water quality averages\n",
    "currentYear = datetime.now().year-1\n",
    "#Water quality calculation are typically calculated for the \"summer average\", which is defined as June through September by the MCPA\n",
    "start_date = f\"{currentYear}-06-01\"\n",
    "end_date = f\"{currentYear}-09-30\"\n",
    "#select data from lake sites only\n",
    "site_type = \"LK_STATION\"\n",
    "#output data as json\n",
    "output_type = f\"objson\"\n",
    "#base WISKI API URL\n",
    "base_url = f\"http://gis.minnehahacreek.org/KiWIS/\"\n",
    "#site and water quality data API urls to get site lat/longs and water quality data\n",
    "site_url = f\"{base_url}/KiWIS?datasource=0&format={output_type}&from={start_date}&to={end_date}&request=getwqmstationlist&service=kisters&object_type_shortname={site_type}&type=queryServices\"\n",
    "wq_data_url = f\"{base_url}/KiWIS?datasource=0&format={output_type}&from={start_date}&to={end_date}&request=getwqmsamplevalues&service=kisters&object_type_shortname={site_type}&type=queryServices\""
   ]
  },
  {
   "cell_type": "code",
   "execution_count": 3,
   "metadata": {},
   "outputs": [],
   "source": [
    "#site API get request\n",
    "site_response = requests.get(site_url)\n",
    "sites = site_response.json()"
   ]
  },
  {
   "cell_type": "code",
   "execution_count": 4,
   "metadata": {},
   "outputs": [],
   "source": [
    "#water quality API get request\n",
    "data_response = requests.get(wq_data_url)\n",
    "WQ = data_response.json()"
   ]
  },
  {
   "cell_type": "code",
   "execution_count": 5,
   "metadata": {},
   "outputs": [],
   "source": [
    "#create dataframes from get requests\n",
    "sites_df = pd.DataFrame(sites)\n",
    "WQ_df = pd.DataFrame(WQ)\n",
    "\n",
    "#merge dataframes \n",
    "data_merge = pd.merge(WQ_df, sites_df, on=\"station_no\", how=\"left\")"
   ]
  },
  {
   "cell_type": "code",
   "execution_count": 6,
   "metadata": {},
   "outputs": [],
   "source": [
    "#data processing to obtain lake total phosphorus, clarity (SD), and algae (chl-a)\n",
    "data_merge['site_no_parameter'] = data_merge['parametertype_name'] + '-' + data_merge['station_name_x']\n",
    "WQ_subset = data_merge[(data_merge[\"parametertype_name\"] == \"TP\") | (data_merge[\"parametertype_name\"] == \"SD\") | (data_merge[\"parametertype_name\"] == \"ChlA\")]"
   ]
  },
  {
   "cell_type": "code",
   "execution_count": 7,
   "metadata": {},
   "outputs": [],
   "source": [
    "#calculate annual averages\n",
    "Annual_avg = WQ_subset.groupby(\"site_no_parameter\").mean()"
   ]
  },
  {
   "cell_type": "code",
   "execution_count": 9,
   "metadata": {},
   "outputs": [],
   "source": [
    "#Convert coordinates  into point data for GIS processing\n",
    "Annual_avg['coordinates'] = Annual_avg[['station_longitude', 'station_latitude']].values.tolist()\n",
    "Annual_avg['coordinates'] = Annual_avg['coordinates'].apply(Point)\n",
    "Annual_avg = geopandas.GeoDataFrame(Annual_avg, geometry='coordinates')"
   ]
  }
 ],
 "metadata": {
  "kernelspec": {
   "display_name": "Python 3",
   "language": "python",
   "name": "python3"
  },
  "language_info": {
   "codemirror_mode": {
    "name": "ipython",
    "version": 3
   },
   "file_extension": ".py",
   "mimetype": "text/x-python",
   "name": "python",
   "nbconvert_exporter": "python",
   "pygments_lexer": "ipython3",
   "version": "3.7.3"
  }
 },
 "nbformat": 4,
 "nbformat_minor": 2
}
